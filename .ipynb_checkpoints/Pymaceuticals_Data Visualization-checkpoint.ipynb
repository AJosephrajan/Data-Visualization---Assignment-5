{
 "cells": [
  {
   "cell_type": "markdown",
   "id": "2dc0de4a",
   "metadata": {},
   "source": [
    "# Assignment 5 - Data Visualization using # Pymaceuticals Inc.\n",
    "---\n",
    "\n",
    "\n"
   ]
  },
  {
   "cell_type": "markdown",
   "id": "815242ee",
   "metadata": {},
   "source": [
    "### Analysis\n",
    "\n",
    "     * When looking at the box plot the the effect of capomulin and Ramicane are relatelively same but defintley \n",
    "       more efficient than infubinol and Ceftamin.\n",
    "     \n",
    "     * When looking at one particular mouse with Capomulin drug it's significantly responding well after 30 days.\n",
    "     \n",
    "     * We have only one outlier for the drug infubinol while other drugs have no outliers thus the other drugs are \n",
    "       consistant in this study.\n",
    "     \n",
    "     * When we comparing Mouse weight and Tumor Volume the mouse with more weihgt have more tumor volume. It shows that \n",
    "       mouse with more weight is not responding well for the drugs. \n",
    "     \n",
    "     * The correlation between mouse weight and the average tumor volume is:0.84. It's evident that we have a strong \n",
    "       correlation so the relationship between weight and tumor volume is positively relative. "
   ]
  },
  {
   "cell_type": "code",
   "execution_count": 25,
   "id": "6a279804",
   "metadata": {},
   "outputs": [],
   "source": [
    "# Prepare the Data\n",
    "# Dependencies and Setup\n",
    "import matplotlib.pyplot as plt\n",
    "import pandas as pd\n",
    "import scipy.stats as st"
   ]
  },
  {
   "cell_type": "code",
   "execution_count": 26,
   "id": "0b28b48d",
   "metadata": {},
   "outputs": [],
   "source": [
    "# Study data files\n",
    "mouse_metadata_path = \"data/Mouse_metadata.csv\"\n",
    "study_results_path =\"data/study_results.csv\""
   ]
  },
  {
   "cell_type": "code",
   "execution_count": 27,
   "id": "4a9a76bc",
   "metadata": {},
   "outputs": [],
   "source": [
    "# Read the mouse data and the study results\n",
    "mouse_metadata = pd.read_csv(mouse_metadata_path)\n",
    "study_results = pd.read_csv(study_results_path)"
   ]
  },
  {
   "cell_type": "code",
   "execution_count": 46,
   "id": "11d1305a",
   "metadata": {},
   "outputs": [],
   "source": [
    "# Combine the data into a single DataFrame\n",
    "combined_df = pd.merge(mouse_metadata,study_results, how=\"outer\", on =\"Mouse ID\")\n",
    "# Display the data table for preview\n",
    "combined_df.head()"
   ]
  },
  {
   "cell_type": "code",
   "execution_count": 47,
   "id": "3bb27d8b",
   "metadata": {},
   "outputs": [],
   "source": [
    "# Checking the number of mice.\n",
    "no_of_mice = len(combined_df[\"Mouse ID\"].value_counts())\n",
    "no_of_mice"
   ]
  },
  {
   "cell_type": "code",
   "execution_count": 48,
   "id": "c07cac29",
   "metadata": {},
   "outputs": [],
   "source": [
    "# Our data should be uniquely identified by Mouse ID and Timepoint\n",
    "# Get the duplicate mice by ID number that shows up for Mouse ID and Timepoint. \n",
    "# combined_df[\"Mouse ID\"].duplicated()\n",
    "dup_mice_df = combined_df.loc[combined_df.duplicated(subset=['Mouse ID','Timepoint']),'Mouse ID'].unique()\n",
    "dup_mice_df"
   ]
  },
  {
   "cell_type": "code",
   "execution_count": 49,
   "id": "23f8036d",
   "metadata": {},
   "outputs": [],
   "source": [
    "# Optional: Get all the data for the duplicate mouse ID. \n",
    "duplicate_mice_df = combined_df.loc[combined_df['Mouse ID']==\"g989\"]\n",
    "duplicate_mice_df"
   ]
  },
  {
   "cell_type": "code",
   "execution_count": 50,
   "id": "bcdb6c09",
   "metadata": {},
   "outputs": [],
   "source": [
    "# Create a clean DataFrame by dropping the duplicate mouse by its ID.\n",
    "clean_df = combined_df.loc[combined_df['Mouse ID']!=\"g989\"]\n",
    "# combined_df.loc[~combined_df['Mouse ID'].isin(['g989','g990'])]\n",
    "# clean_df.isna().any()\n",
    "clean_df"
   ]
  },
  {
   "cell_type": "code",
   "execution_count": 51,
   "id": "26803745",
   "metadata": {},
   "outputs": [],
   "source": [
    "# Checking the number of mice in the clean DataFrame.\n",
    "mice_number_df =len( clean_df['Mouse ID'].unique())\n",
    "mice_number_df"
   ]
  },
  {
   "cell_type": "markdown",
   "id": "13e5bba3",
   "metadata": {},
   "source": [
    "# Summary Statistics"
   ]
  },
  {
   "cell_type": "code",
   "execution_count": 52,
   "id": "69c43d3c",
   "metadata": {},
   "outputs": [],
   "source": [
    "# Generate a summary statistics table of mean, median, variance, standard deviation, and SEM of the tumor volume for each regimen\n",
    "\n",
    "# Use groupby and summary statistical methods to calculate the following properties of each drug regimen: \n",
    "# mean, median, variance, standard deviation, and SEM of the tumor volume. \n",
    "\n",
    "mean_vol = clean_df.groupby('Drug Regimen')['Tumor Volume (mm3)'].mean()\n",
    "median_vol = clean_df.groupby('Drug Regimen')['Tumor Volume (mm3)'].median()\n",
    "var_vol = clean_df.groupby('Drug Regimen')['Tumor Volume (mm3)'].var()\n",
    "std_vol = clean_df.groupby('Drug Regimen')['Tumor Volume (mm3)'].std()\n",
    "sem_vol = clean_df.groupby('Drug Regimen')['Tumor Volume (mm3)'].sem()\n",
    "\n",
    "# Assemble the resulting series into a single summary DataFrame.\n",
    "sum_df = pd.DataFrame({\"Mean Tumor Volume\": mean_vol,\n",
    "                       \"Median Tumor Volume\": median_vol,\n",
    "                       \"Variance Tumor Volume\":var_vol,\n",
    "                       \"STD Tumor Volume\": std_vol,\n",
    "                       \"SEM Tumor Volume\": sem_vol                     \n",
    "                                 \n",
    "    \n",
    "    \n",
    "})\n",
    "sum_df"
   ]
  },
  {
   "cell_type": "code",
   "execution_count": 53,
   "id": "fa59ae7f",
   "metadata": {},
   "outputs": [],
   "source": [
    "# A more advanced method to generate a summary statistics table of mean, median, variance, standard deviation,\n",
    "# and SEM of the tumor volume for each regimen (only one method is required in the solution)\n",
    "\n",
    "# Using the aggregation method, produce the same summary statistics in a single line\n",
    "sum_df2 = clean_df.groupby('Drug Regimen').agg({'Tumor Volume (mm3)': ['mean','median','var','std','sem']})\n",
    "sum_df2"
   ]
  },
  {
   "cell_type": "markdown",
   "id": "31276c4e",
   "metadata": {},
   "source": [
    "  ## Bar & Pie Charts"
   ]
  },
  {
   "cell_type": "code",
   "execution_count": 56,
   "id": "4571a3fa",
   "metadata": {},
   "outputs": [],
   "source": [
    "# Generate a bar plot showing the total number of rows (Mouse ID/Timepoints) for each drug regimen using Pandas.\n",
    "drug_count = clean_df['Drug Regimen'].value_counts()\n",
    "drug_count.plot(kind=\"bar\", ylabel=\"# of observed Time Points\")\n",
    "plt.show()"
   ]
  },
  {
   "cell_type": "code",
   "execution_count": 58,
   "id": "b679458c",
   "metadata": {},
   "outputs": [],
   "source": [
    "# Generate a bar plot showing the total number of rows (Mouse ID/Timepoints) for each drug regimen using pyplot.\n",
    "plt.bar(x=drug_count.index, height=drug_count.values)\n",
    "plt.xticks(rotation=90)\n",
    "plt.ylabel(\"# of observed Time Points\")\n",
    "plt.xlabel(\"Drug Regimen\")\n",
    "plt.show()"
   ]
  },
  {
   "cell_type": "code",
   "execution_count": 59,
   "id": "2913b5b1",
   "metadata": {},
   "outputs": [],
   "source": [
    "# Generate a pie plot showing the distribution of female versus male mice using Pandas\n",
    "gender_count = clean_df['Sex'].value_counts()\n",
    "explode = (0.01, 0)\n",
    "gender_count.plot(kind=\"pie\", ylabel=\"Sex\",autopct='%.1f%%', explode = explode)\n",
    "plt.show()"
   ]
  },
  {
   "cell_type": "code",
   "execution_count": 61,
   "id": "ce9586b8",
   "metadata": {},
   "outputs": [],
   "source": [
    "# Generate a pie plot showing the distribution of female versus male mice using pyplot\n",
    "explode = (0.01, 0)\n",
    "plt.pie(gender_count.values, labels=gender_count.index, autopct='%.1f%%',explode = explode)\n",
    "plt.ylabel(\"Sex\")\n",
    "plt.show()"
   ]
  },
  {
   "cell_type": "markdown",
   "id": "2b2b2ffe",
   "metadata": {},
   "source": [
    "## Quartiles, Outliers and Boxplots### "
   ]
  },
  {
   "cell_type": "code",
   "execution_count": 63,
   "id": "9169c3c7",
   "metadata": {},
   "outputs": [],
   "source": [
    "#A DatFrame that has the last timepoint for each mouse ID is created using groupby.\n",
    "# Calculate the final tumor volume of each mouse across four of the treatment regimens:  \n",
    "# Capomulin, Ramicane, Infubinol, and Ceftamin\n",
    "\n",
    "# Start by getting the last (greatest) timepoint for each mouse\n",
    "greatest_tp_df = pd.DataFrame(clean_df.groupby('Mouse ID')['Timepoint'].max().sort_values())\n",
    "\n",
    "# Merge this group df with the original DataFrame to get the tumor volume at the last timepoint\n",
    "merged_df = pd.merge(clean_df, greatest_tp_df, on=['Mouse ID','Timepoint']).rename(columns={\"Timepoint_x\": \"Timepoint\", \"Timepoint_y\": \"Max Timepoint\"})\n",
    "\n",
    "merged_df.head()\n",
    "\n"
   ]
  },
  {
   "cell_type": "code",
   "execution_count": 68,
   "id": "696d21ee",
   "metadata": {},
   "outputs": [],
   "source": [
    "# # Put treatments into a list for for loop (and later for plot labels)\n",
    "# drugs =['Capomulin', 'Ramicane', 'Infubinol','Ceftamin']\n",
    "\n",
    "# # Create empty list to fill with tumor vol data (for plotting)\n",
    "tumor_vol = []\n",
    "\n",
    "# # Calculate the IQR and quantitatively determine if there are any potential outliers. \n",
    "\n",
    "    \n",
    "#     # Locate the rows which contain mice on each drug and get the tumor volumes\n",
    "for drug in drugs:\n",
    "    df1=merged_df.loc[merged_df['Drug Regimen']== drug,'Tumor Volume (mm3)']\n",
    "        \n",
    "    # add subset \n",
    "    tumor_vol.append(df1)\n",
    "    \n",
    "     # Calculate the IQR and quantitatively determine if there are any potential outliers.\n",
    "     # Determine outliers using upper and lower bounds\n",
    "\n",
    "    quartiles = df1.quantile([.25,.5,.75])\n",
    "    lowerq = quartiles[0.25]\n",
    "    upperq = quartiles[0.75]\n",
    "    iqr = upperq-lowerq\n",
    "\n",
    "    print(f'IQR for {drug} is : {iqr}')\n",
    "     # Find upper and lower bounds to help identify outliers for each regimen\n",
    "    lower_bound = lowerq - (1.5*iqr)\n",
    "    upper_bound = upperq + (1.5*iqr)\n",
    "    print(f'Lower Bound for {drug}: {lower_bound}')\n",
    "    print(f'Upper Bound for {drug}: {upper_bound}')\n",
    "    \n",
    "     #check for outliers\n",
    "    df_outliers = df1[(df1 < lower_bound) | (df1> upper_bound)].count()\n",
    "    print(f'Number of {drug} Outlier: {df_outliers}')"
   ]
  },
  {
   "cell_type": "code",
   "execution_count": 73,
   "id": "6e275bb5",
   "metadata": {},
   "outputs": [],
   "source": [
    "# Generate a box plot that shows the distrubution of the tumor volume for each treatment group.\n",
    "plt.boxplot(tumor_vol)\n",
    "plt.title('Final Tumor Volume by Drug')\n",
    "plt.ylabel('Final Tumor Volume (mm3)')\n",
    "plt.xticks([1, 2, 3, 4], ['Capomulin', 'Ramicane', 'Infubinol', 'Ceftamin'])\n",
    "plt.show()"
   ]
  },
  {
   "cell_type": "markdown",
   "id": "5e2fe01a",
   "metadata": {},
   "source": [
    "### Line and Scatter Plots"
   ]
  },
  {
   "cell_type": "code",
   "execution_count": 75,
   "id": "32410bb4",
   "metadata": {},
   "outputs": [],
   "source": [
    "# Generate a line plot of tumor volume vs. time point for a single mouse treated with Capomulin\n",
    "singlemouse_Capomulin = clean_df.loc[clean_df['Mouse ID']==\"l509\",:]\n",
    "x_axis = singlemouse_Capomulin['Timepoint'].count()\n",
    "x= singlemouse_Capomulin['Timepoint']\n",
    "y= singlemouse_Capomulin['Tumor Volume (mm3)']\n",
    "plt.plot(x,y,color = \"blue\")\n",
    "plt.title(\" Capomulin Treatment of Mouse ID: l509\")\n",
    "plt.xlabel(\"Timepoint (days)\")\n",
    "plt.ylabel(\"Tumor Volume (mm3)\")\n",
    "plt.show()"
   ]
  },
  {
   "cell_type": "code",
   "execution_count": 78,
   "id": "19939b72",
   "metadata": {},
   "outputs": [],
   "source": [
    "# Generate a scatter plot of mouse weight vs. the average observed tumor volume for the entire Capomulin regimen\n",
    "# Isolate cases that only use the Capomulin regimen\n",
    "\n",
    "capomulin_df = clean_df.loc[clean_df['Drug Regimen'] == 'Capomulin']\n",
    "\n",
    "# Find average tumor volume for each mouse\n",
    "avg_vol_df = pd.DataFrame(capomulin_df.groupby('Mouse ID')['Tumor Volume (mm3)'].mean().sort_values())\n",
    "avg1_vol_df=avg_vol_df.rename(columns={\"Tumor Volume (mm3)\":\"Ave Tumor Volume (mm3)\"}).reset_index()\n",
    "avg1_vol_df\n",
    "\n",
    "# Merge average tumor volume onto data_df and drop duplicates\n",
    "avg_vol_df = pd.merge(capomulin_df, avg1_vol_df , on='Mouse ID')\n",
    "final_avg_vol_df = avg_vol_df [['Weight (g)', 'Ave Tumor Volume (mm3)']].drop_duplicates()\n",
    "final_avg_vol_df\n",
    "\n",
    "# Plot the scatter plot with final ave weight with Ave Tumor Volume\n",
    "x = final_avg_vol_df['Weight (g)']\n",
    "y = final_avg_vol_df['Ave Tumor Volume (mm3)']\n",
    "plt.scatter(x, y)\n",
    "plt.xlabel(\"weight(g)\")\n",
    "plt.ylabel(\"Ave Tumor Volume (mm3))\")\n",
    "plt.title(\"Mouse Weight vs Tumor Volume (mm3)\")\n",
    "plt.show()"
   ]
  },
  {
   "cell_type": "markdown",
   "id": "dbfa5adf",
   "metadata": {},
   "source": [
    "### Correlation and Regression"
   ]
  },
  {
   "cell_type": "code",
   "execution_count": 81,
   "id": "800f6358",
   "metadata": {},
   "outputs": [],
   "source": [
    "# Calculate the correlation coefficient and a linear regression model \n",
    "# for mouse weight and average observed tumor volume for the entire Capomulin regimen\n",
    "#Take x,y value from the above part\n",
    "\n",
    "x = final_avg_vol_df['Weight (g)']\n",
    "y = final_avg_vol_df['Ave Tumor Volume (mm3)']\n",
    "# Calculate the correlation coefficient between mouse weight and average tumor volume\n",
    "correlation = st.pearsonr(x,y)\n",
    "print(f'The correlation between mouse weight and the average tumor volume is:{round(correlation[0],2)}')\n",
    "\n",
    "# Calculate linear regression\n",
    "(slope, intercept, rvalue, pvalue, stderr) = st.linregress(x, y)\n",
    "regress_values = x * slope + intercept\n",
    "line_eq = \"y = \" + str(round(slope,2)) + \"x + \" + str(round(intercept,2))\n",
    "\n",
    "# Plot linear regression on top of scatter plot      \n",
    "plt.scatter(x,y)\n",
    "plt.plot(x,regress_values,\"r-\")\n",
    "plt.annotate(line_eq,(20,40),fontsize=15,color=\"red\")\n",
    "plt.xlabel(\"weight(g)\")\n",
    "plt.ylabel(\"Ave Tumor Volume (mm3))\")\n",
    "plt.title(\"Mouse Weight vs Tumor Volume (mm3)\")\n",
    "plt.show()"
   ]
  },
  {
   "cell_type": "code",
   "execution_count": null,
   "id": "38f73f35",
   "metadata": {},
   "outputs": [],
   "source": []
  },
  {
   "cell_type": "code",
   "execution_count": null,
   "id": "aa99e854",
   "metadata": {},
   "outputs": [],
   "source": []
  },
  {
   "cell_type": "code",
   "execution_count": null,
   "id": "0f49f08f",
   "metadata": {},
   "outputs": [],
   "source": []
  },
  {
   "cell_type": "code",
   "execution_count": null,
   "id": "be426ae6",
   "metadata": {},
   "outputs": [],
   "source": []
  }
 ],
 "metadata": {
  "kernelspec": {
   "display_name": "Python 3 (ipykernel)",
   "language": "python",
   "name": "python3"
  },
  "language_info": {
   "codemirror_mode": {
    "name": "ipython",
    "version": 3
   },
   "file_extension": ".py",
   "mimetype": "text/x-python",
   "name": "python",
   "nbconvert_exporter": "python",
   "pygments_lexer": "ipython3",
   "version": "3.10.13"
  }
 },
 "nbformat": 4,
 "nbformat_minor": 5
}
